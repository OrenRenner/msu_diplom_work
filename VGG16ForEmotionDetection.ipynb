{
  "nbformat": 4,
  "nbformat_minor": 0,
  "metadata": {
    "colab": {
      "name": "VGG16ForEmotionDetection.ipynb",
      "provenance": []
    },
    "kernelspec": {
      "name": "python3",
      "display_name": "Python 3"
    }
  },
  "cells": [
    {
      "cell_type": "code",
      "metadata": {
        "id": "yItOgX1hm_Zs",
        "colab_type": "code",
        "colab": {
          "base_uri": "https://localhost:8080/",
          "height": 35
        },
        "outputId": "41a8a451-67dd-409c-b6cb-eed8b3f2be85"
      },
      "source": [
        "from keras.applications.vgg16 import VGG16"
      ],
      "execution_count": 1,
      "outputs": [
        {
          "output_type": "stream",
          "text": [
            "Using TensorFlow backend.\n"
          ],
          "name": "stderr"
        }
      ]
    },
    {
      "cell_type": "code",
      "metadata": {
        "id": "ijyiz_uGnlWk",
        "colab_type": "code",
        "outputId": "d56d8d3b-9ec4-4d1e-b915-0524923d643d",
        "colab": {
          "base_uri": "https://localhost:8080/",
          "height": 54
        }
      },
      "source": [
        "model = VGG16(include_top=False, input_shape=(200,200,3))"
      ],
      "execution_count": 2,
      "outputs": [
        {
          "output_type": "stream",
          "text": [
            "Downloading data from https://github.com/fchollet/deep-learning-models/releases/download/v0.1/vgg16_weights_tf_dim_ordering_tf_kernels_notop.h5\n",
            "58892288/58889256 [==============================] - 5s 0us/step\n"
          ],
          "name": "stdout"
        }
      ]
    },
    {
      "cell_type": "code",
      "metadata": {
        "id": "VidywALyn4ou",
        "colab_type": "code",
        "outputId": "2a24b860-f1f9-47cc-f357-5fe31255550d",
        "colab": {
          "base_uri": "https://localhost:8080/",
          "height": 862
        }
      },
      "source": [
        "model.summary()"
      ],
      "execution_count": 3,
      "outputs": [
        {
          "output_type": "stream",
          "text": [
            "Model: \"vgg16\"\n",
            "_________________________________________________________________\n",
            "Layer (type)                 Output Shape              Param #   \n",
            "=================================================================\n",
            "input_1 (InputLayer)         (None, 200, 200, 3)       0         \n",
            "_________________________________________________________________\n",
            "block1_conv1 (Conv2D)        (None, 200, 200, 64)      1792      \n",
            "_________________________________________________________________\n",
            "block1_conv2 (Conv2D)        (None, 200, 200, 64)      36928     \n",
            "_________________________________________________________________\n",
            "block1_pool (MaxPooling2D)   (None, 100, 100, 64)      0         \n",
            "_________________________________________________________________\n",
            "block2_conv1 (Conv2D)        (None, 100, 100, 128)     73856     \n",
            "_________________________________________________________________\n",
            "block2_conv2 (Conv2D)        (None, 100, 100, 128)     147584    \n",
            "_________________________________________________________________\n",
            "block2_pool (MaxPooling2D)   (None, 50, 50, 128)       0         \n",
            "_________________________________________________________________\n",
            "block3_conv1 (Conv2D)        (None, 50, 50, 256)       295168    \n",
            "_________________________________________________________________\n",
            "block3_conv2 (Conv2D)        (None, 50, 50, 256)       590080    \n",
            "_________________________________________________________________\n",
            "block3_conv3 (Conv2D)        (None, 50, 50, 256)       590080    \n",
            "_________________________________________________________________\n",
            "block3_pool (MaxPooling2D)   (None, 25, 25, 256)       0         \n",
            "_________________________________________________________________\n",
            "block4_conv1 (Conv2D)        (None, 25, 25, 512)       1180160   \n",
            "_________________________________________________________________\n",
            "block4_conv2 (Conv2D)        (None, 25, 25, 512)       2359808   \n",
            "_________________________________________________________________\n",
            "block4_conv3 (Conv2D)        (None, 25, 25, 512)       2359808   \n",
            "_________________________________________________________________\n",
            "block4_pool (MaxPooling2D)   (None, 12, 12, 512)       0         \n",
            "_________________________________________________________________\n",
            "block5_conv1 (Conv2D)        (None, 12, 12, 512)       2359808   \n",
            "_________________________________________________________________\n",
            "block5_conv2 (Conv2D)        (None, 12, 12, 512)       2359808   \n",
            "_________________________________________________________________\n",
            "block5_conv3 (Conv2D)        (None, 12, 12, 512)       2359808   \n",
            "_________________________________________________________________\n",
            "block5_pool (MaxPooling2D)   (None, 6, 6, 512)         0         \n",
            "=================================================================\n",
            "Total params: 14,714,688\n",
            "Trainable params: 14,714,688\n",
            "Non-trainable params: 0\n",
            "_________________________________________________________________\n"
          ],
          "name": "stdout"
        }
      ]
    },
    {
      "cell_type": "code",
      "metadata": {
        "id": "qmo2yDfpoCIL",
        "colab_type": "code",
        "outputId": "b3a7e770-6c82-4d13-8b10-5692b0df4416",
        "colab": {
          "base_uri": "https://localhost:8080/",
          "height": 35
        }
      },
      "source": [
        "from google.colab import drive\n",
        "drive.mount('/gdrive', force_remount=True)"
      ],
      "execution_count": 5,
      "outputs": [
        {
          "output_type": "stream",
          "text": [
            "Mounted at /gdrive\n"
          ],
          "name": "stdout"
        }
      ]
    },
    {
      "cell_type": "code",
      "metadata": {
        "id": "-yAB0Wteoh3r",
        "colab_type": "code",
        "colab": {}
      },
      "source": [
        "train_data_dir = '/gdrive/My Drive/dataset/train'\n",
        "validation_data_dir = '/gdrive/My Drive/dataset/val'"
      ],
      "execution_count": 0,
      "outputs": []
    },
    {
      "cell_type": "code",
      "metadata": {
        "id": "YKtW5uqSoksz",
        "colab_type": "code",
        "colab": {}
      },
      "source": [
        "from keras.models import Sequential\n",
        "from keras.layers import Dense \n",
        "from keras.layers import Conv2D\n",
        "from keras.layers import Flatten\n",
        "from keras.layers import Dropout\n",
        "from keras.layers import MaxPooling2D\n",
        "from keras.layers import ZeroPadding2D\n",
        "from keras.layers import BatchNormalization, Input\n",
        "from keras.preprocessing.image import ImageDataGenerator\n",
        "from keras import regularizers, optimizers\n",
        "from keras.callbacks import EarlyStopping"
      ],
      "execution_count": 0,
      "outputs": []
    },
    {
      "cell_type": "code",
      "metadata": {
        "id": "aMvgTkRvo0KN",
        "colab_type": "code",
        "outputId": "b88e013a-9b36-4d09-cdfb-ac28d75237c5",
        "colab": {
          "base_uri": "https://localhost:8080/",
          "height": 54
        }
      },
      "source": [
        "train_datagen = ImageDataGenerator(\n",
        "    rescale=1./255,\n",
        "    shear_range=0.2,\n",
        "    zoom_range=0.2,\n",
        "    horizontal_flip=True)\n",
        "\n",
        "test_datagen = ImageDataGenerator(rescale=1./255)\n",
        "\n",
        "train_generator = train_datagen.flow_from_directory(\n",
        " train_data_dir,\n",
        " target_size=(200, 200),\n",
        " batch_size=32,\n",
        " class_mode='categorical')\n",
        "\n",
        "validation_generator = test_datagen.flow_from_directory(\n",
        " validation_data_dir,\n",
        " target_size=(200, 200),\n",
        " batch_size=32,\n",
        " class_mode='categorical')\n"
      ],
      "execution_count": 8,
      "outputs": [
        {
          "output_type": "stream",
          "text": [
            "Found 13125 images belonging to 8 classes.\n",
            "Found 558 images belonging to 8 classes.\n"
          ],
          "name": "stdout"
        }
      ]
    },
    {
      "cell_type": "code",
      "metadata": {
        "id": "XQYC_q6WpCEo",
        "colab_type": "code",
        "colab": {}
      },
      "source": [
        "for l in range(len(model.layers)):\n",
        "    model.layers[l].trainable = False"
      ],
      "execution_count": 0,
      "outputs": []
    },
    {
      "cell_type": "code",
      "metadata": {
        "id": "OIZ-XIyUps-_",
        "colab_type": "code",
        "colab": {}
      },
      "source": [
        "keras_model = Sequential()"
      ],
      "execution_count": 0,
      "outputs": []
    },
    {
      "cell_type": "code",
      "metadata": {
        "id": "IT5JEMHZqOLm",
        "colab_type": "code",
        "colab": {}
      },
      "source": [
        "keras_model.add(model)\n",
        "keras_model.add(Flatten())\n",
        "keras_model.add(Dense(64, activation='relu'))\n",
        "keras_model.add(Dropout(0.3))\n",
        "keras_model.add(Dense(32, activation='relu'))\n",
        "keras_model.add(Dropout(0.2))\n",
        "keras_model.add(Dense(8, activation='softmax'))"
      ],
      "execution_count": 0,
      "outputs": []
    },
    {
      "cell_type": "code",
      "metadata": {
        "id": "QMp-BdbEq-X-",
        "colab_type": "code",
        "outputId": "9b64ca62-0d3e-4e82-d7c7-dea448e0aa45",
        "colab": {
          "base_uri": "https://localhost:8080/",
          "height": 421
        }
      },
      "source": [
        "opt = optimizers.Adam(learning_rate=0.001, beta_1=0.9, beta_2=0.999, amsgrad=False)\n",
        "\n",
        "keras_model.compile(optimizer=opt, \n",
        "              loss='categorical_crossentropy',\n",
        "              metrics=['accuracy'])\n",
        "keras_model.summary()\n"
      ],
      "execution_count": 12,
      "outputs": [
        {
          "output_type": "stream",
          "text": [
            "Model: \"sequential_1\"\n",
            "_________________________________________________________________\n",
            "Layer (type)                 Output Shape              Param #   \n",
            "=================================================================\n",
            "vgg16 (Model)                (None, 6, 6, 512)         14714688  \n",
            "_________________________________________________________________\n",
            "flatten_1 (Flatten)          (None, 18432)             0         \n",
            "_________________________________________________________________\n",
            "dense_1 (Dense)              (None, 64)                1179712   \n",
            "_________________________________________________________________\n",
            "dropout_1 (Dropout)          (None, 64)                0         \n",
            "_________________________________________________________________\n",
            "dense_2 (Dense)              (None, 32)                2080      \n",
            "_________________________________________________________________\n",
            "dropout_2 (Dropout)          (None, 32)                0         \n",
            "_________________________________________________________________\n",
            "dense_3 (Dense)              (None, 8)                 264       \n",
            "=================================================================\n",
            "Total params: 15,896,744\n",
            "Trainable params: 1,182,056\n",
            "Non-trainable params: 14,714,688\n",
            "_________________________________________________________________\n"
          ],
          "name": "stdout"
        }
      ]
    },
    {
      "cell_type": "code",
      "metadata": {
        "id": "64g4MPDErMo9",
        "colab_type": "code",
        "colab": {}
      },
      "source": [
        "total_train = 13125\n",
        "total_val = 558\n",
        "epochs = 10\n",
        "batch_size = 500\n",
        "esc = EarlyStopping(monitor='val_acc', patience=4)\n"
      ],
      "execution_count": 0,
      "outputs": []
    },
    {
      "cell_type": "code",
      "metadata": {
        "id": "gxDnipRqrY65",
        "colab_type": "code",
        "outputId": "96188db7-d187-44b7-d550-74f6a35c9b0e",
        "colab": {
          "base_uri": "https://localhost:8080/",
          "height": 441
        }
      },
      "source": [
        "history = keras_model.fit_generator(\n",
        "    train_generator,\n",
        "    steps_per_epoch=total_train // batch_size,\n",
        "    epochs=epochs,\n",
        "    validation_data=validation_generator,\n",
        "    validation_steps=total_val // batch_size,\n",
        "    callbacks=[esc]\n",
        ")"
      ],
      "execution_count": 14,
      "outputs": [
        {
          "output_type": "stream",
          "text": [
            "Epoch 1/10\n",
            "26/26 [==============================] - 657s 25s/step - loss: 1.4512 - accuracy: 0.4675 - val_loss: 1.0751 - val_accuracy: 0.6562\n",
            "Epoch 2/10\n"
          ],
          "name": "stdout"
        },
        {
          "output_type": "stream",
          "text": [
            "/usr/local/lib/python3.6/dist-packages/keras/callbacks/callbacks.py:846: RuntimeWarning: Early stopping conditioned on metric `val_acc` which is not available. Available metrics are: val_loss,val_accuracy,loss,accuracy\n",
            "  (self.monitor, ','.join(list(logs.keys()))), RuntimeWarning\n"
          ],
          "name": "stderr"
        },
        {
          "output_type": "stream",
          "text": [
            "26/26 [==============================] - 616s 24s/step - loss: 1.1756 - accuracy: 0.5264 - val_loss: 1.1544 - val_accuracy: 0.6875\n",
            "Epoch 3/10\n",
            "26/26 [==============================] - 633s 24s/step - loss: 1.0278 - accuracy: 0.6046 - val_loss: 0.9457 - val_accuracy: 0.6250\n",
            "Epoch 4/10\n",
            "26/26 [==============================] - 617s 24s/step - loss: 0.9976 - accuracy: 0.6322 - val_loss: 1.1529 - val_accuracy: 0.6250\n",
            "Epoch 5/10\n",
            "26/26 [==============================] - 604s 23s/step - loss: 1.0605 - accuracy: 0.5913 - val_loss: 1.1352 - val_accuracy: 0.5938\n",
            "Epoch 6/10\n",
            "26/26 [==============================] - 626s 24s/step - loss: 0.9234 - accuracy: 0.6575 - val_loss: 1.0342 - val_accuracy: 0.7812\n",
            "Epoch 7/10\n",
            "26/26 [==============================] - 636s 24s/step - loss: 0.9446 - accuracy: 0.6538 - val_loss: 1.2901 - val_accuracy: 0.5000\n",
            "Epoch 8/10\n",
            "26/26 [==============================] - 626s 24s/step - loss: 1.0119 - accuracy: 0.6370 - val_loss: 0.7734 - val_accuracy: 0.7500\n",
            "Epoch 9/10\n",
            "26/26 [==============================] - 617s 24s/step - loss: 0.9026 - accuracy: 0.6899 - val_loss: 1.4049 - val_accuracy: 0.6250\n",
            "Epoch 10/10\n",
            "26/26 [==============================] - 640s 25s/step - loss: 0.9150 - accuracy: 0.6839 - val_loss: 1.1268 - val_accuracy: 0.7188\n"
          ],
          "name": "stdout"
        }
      ]
    },
    {
      "cell_type": "code",
      "metadata": {
        "id": "1MiEldglSrNO",
        "colab_type": "code",
        "colab": {}
      },
      "source": [
        "acc = history.history['accuracy']\n",
        "val_acc = history.history['val_accuracy']\n",
        "loss = history.history['loss']\n",
        "val_loss = history.history['val_loss']\n",
        "epochs_range = range(10)"
      ],
      "execution_count": 0,
      "outputs": []
    },
    {
      "cell_type": "code",
      "metadata": {
        "id": "bWrPq2DUSyul",
        "colab_type": "code",
        "outputId": "cecd61c8-c460-417a-d591-fbb7da6e5e45",
        "colab": {
          "base_uri": "https://localhost:8080/",
          "height": 499
        }
      },
      "source": [
        "import matplotlib.pyplot as plt\n",
        "plt.figure(figsize=(8, 8))\n",
        "plt.subplot(1, 2, 1)\n",
        "plt.plot(epochs_range, acc, label='Training Accuracy')\n",
        "plt.plot(epochs_range, val_acc, label='Validation Accuracy')\n",
        "plt.legend(loc='lower right')\n",
        "plt.title('Training and Validation Accuracy')\n",
        "plt.subplot(1, 2, 2)\n",
        "plt.plot(epochs_range, loss, label='Training Loss')\n",
        "plt.plot(epochs_range, val_loss, label='Validation Loss')\n",
        "plt.legend(loc='upper right')\n",
        "plt.title('Training and Validation Loss')\n",
        "plt.show()"
      ],
      "execution_count": 16,
      "outputs": [
        {
          "output_type": "display_data",
          "data": {
            "image/png": "[encoded data removed]",
            "text/plain": [
              "<Figure size 576x576 with 2 Axes>"
            ]
          },
          "metadata": {
            "tags": [],
            "needs_background": "light"
          }
        }
      ]
    },
    {
      "cell_type": "code",
      "metadata": {
        "id": "lUq6qKfDTLJN",
        "colab_type": "code",
        "colab": {}
      },
      "source": [
        "save_dir = \"/gdrive/My Drive/DiplomWork/Second\"\n",
        "json_file = open(save_dir+\"/VGG16ForEmotionDetection.json\", \"w\")\n",
        "model_json = keras_model.to_json()\n",
        "json_file.write(model_json)\n",
        "json_file.close()\n",
        "keras_model.save_weights(save_dir+\"/VGG16ForEmotionDetection_weights.h5\")"
      ],
      "execution_count": 0,
      "outputs": []
    }
  ]
}