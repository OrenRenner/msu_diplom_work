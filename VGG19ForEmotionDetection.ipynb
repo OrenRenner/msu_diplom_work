{
  "nbformat": 4,
  "nbformat_minor": 0,
  "metadata": {
    "colab": {
      "name": "VGG19ForEmotionDetection.ipynb",
      "provenance": []
    },
    "kernelspec": {
      "name": "python3",
      "display_name": "Python 3"
    }
  },
  "cells": [
    {
      "cell_type": "code",
      "metadata": {
        "id": "nIRo07T3HtP-",
        "colab_type": "code",
        "outputId": "2f7a982f-de1e-46ec-87cf-eeb945bf3c6d",
        "colab": {
          "base_uri": "https://localhost:8080/",
          "height": 1000
        }
      },
      "source": [
        "from keras.applications.vgg19 import VGG19\n",
        "model = VGG19(include_top=False, input_shape=(200,200,3))\n",
        "model.summary()"
      ],
      "execution_count": 1,
      "outputs": [
        {
          "output_type": "stream",
          "text": [
            "Using TensorFlow backend.\n"
          ],
          "name": "stderr"
        },
        {
          "output_type": "stream",
          "text": [
            "Downloading data from https://github.com/fchollet/deep-learning-models/releases/download/v0.1/vgg19_weights_tf_dim_ordering_tf_kernels_notop.h5\n",
            "80142336/80134624 [==============================] - 6s 0us/step\n",
            "Model: \"vgg19\"\n",
            "_________________________________________________________________\n",
            "Layer (type)                 Output Shape              Param #   \n",
            "=================================================================\n",
            "input_1 (InputLayer)         (None, 200, 200, 3)       0         \n",
            "_________________________________________________________________\n",
            "block1_conv1 (Conv2D)        (None, 200, 200, 64)      1792      \n",
            "_________________________________________________________________\n",
            "block1_conv2 (Conv2D)        (None, 200, 200, 64)      36928     \n",
            "_________________________________________________________________\n",
            "block1_pool (MaxPooling2D)   (None, 100, 100, 64)      0         \n",
            "_________________________________________________________________\n",
            "block2_conv1 (Conv2D)        (None, 100, 100, 128)     73856     \n",
            "_________________________________________________________________\n",
            "block2_conv2 (Conv2D)        (None, 100, 100, 128)     147584    \n",
            "_________________________________________________________________\n",
            "block2_pool (MaxPooling2D)   (None, 50, 50, 128)       0         \n",
            "_________________________________________________________________\n",
            "block3_conv1 (Conv2D)        (None, 50, 50, 256)       295168    \n",
            "_________________________________________________________________\n",
            "block3_conv2 (Conv2D)        (None, 50, 50, 256)       590080    \n",
            "_________________________________________________________________\n",
            "block3_conv3 (Conv2D)        (None, 50, 50, 256)       590080    \n",
            "_________________________________________________________________\n",
            "block3_conv4 (Conv2D)        (None, 50, 50, 256)       590080    \n",
            "_________________________________________________________________\n",
            "block3_pool (MaxPooling2D)   (None, 25, 25, 256)       0         \n",
            "_________________________________________________________________\n",
            "block4_conv1 (Conv2D)        (None, 25, 25, 512)       1180160   \n",
            "_________________________________________________________________\n",
            "block4_conv2 (Conv2D)        (None, 25, 25, 512)       2359808   \n",
            "_________________________________________________________________\n",
            "block4_conv3 (Conv2D)        (None, 25, 25, 512)       2359808   \n",
            "_________________________________________________________________\n",
            "block4_conv4 (Conv2D)        (None, 25, 25, 512)       2359808   \n",
            "_________________________________________________________________\n",
            "block4_pool (MaxPooling2D)   (None, 12, 12, 512)       0         \n",
            "_________________________________________________________________\n",
            "block5_conv1 (Conv2D)        (None, 12, 12, 512)       2359808   \n",
            "_________________________________________________________________\n",
            "block5_conv2 (Conv2D)        (None, 12, 12, 512)       2359808   \n",
            "_________________________________________________________________\n",
            "block5_conv3 (Conv2D)        (None, 12, 12, 512)       2359808   \n",
            "_________________________________________________________________\n",
            "block5_conv4 (Conv2D)        (None, 12, 12, 512)       2359808   \n",
            "_________________________________________________________________\n",
            "block5_pool (MaxPooling2D)   (None, 6, 6, 512)         0         \n",
            "=================================================================\n",
            "Total params: 20,024,384\n",
            "Trainable params: 20,024,384\n",
            "Non-trainable params: 0\n",
            "_________________________________________________________________\n"
          ],
          "name": "stdout"
        }
      ]
    },
    {
      "cell_type": "code",
      "metadata": {
        "id": "nwvqrnZYIMQx",
        "colab_type": "code",
        "outputId": "8d5e5ddf-2e65-41d5-a58a-c7f353f38f1f",
        "colab": {
          "base_uri": "https://localhost:8080/",
          "height": 35
        }
      },
      "source": [
        "from google.colab import drive\n",
        "drive.mount('/gdrive', force_remount=True)"
      ],
      "execution_count": 16,
      "outputs": [
        {
          "output_type": "stream",
          "text": [
            "Mounted at /gdrive\n"
          ],
          "name": "stdout"
        }
      ]
    },
    {
      "cell_type": "code",
      "metadata": {
        "id": "cVnx5CtIIULR",
        "colab_type": "code",
        "colab": {}
      },
      "source": [
        "train_data_dir = '/gdrive/My Drive/dataset/train'\n",
        "validation_data_dir = '/gdrive/My Drive/dataset/val'"
      ],
      "execution_count": 0,
      "outputs": []
    },
    {
      "cell_type": "code",
      "metadata": {
        "id": "ADQwEFqIIaLX",
        "colab_type": "code",
        "colab": {}
      },
      "source": [
        "from keras.models import Sequential\n",
        "from keras.layers import Dense \n",
        "from keras.layers import Conv2D\n",
        "from keras.layers import Flatten\n",
        "from keras.layers import Dropout\n",
        "from keras.layers import MaxPooling2D\n",
        "from keras.layers import ZeroPadding2D\n",
        "from keras.layers import BatchNormalization, Input\n",
        "from keras.preprocessing.image import ImageDataGenerator\n",
        "from keras import regularizers, optimizers\n",
        "from keras.callbacks import EarlyStopping"
      ],
      "execution_count": 0,
      "outputs": []
    },
    {
      "cell_type": "code",
      "metadata": {
        "id": "guEE1P2zIbV1",
        "colab_type": "code",
        "outputId": "dabc7ec6-b6d5-493c-d79c-19784c99672f",
        "colab": {
          "base_uri": "https://localhost:8080/",
          "height": 54
        }
      },
      "source": [
        "train_datagen = ImageDataGenerator(\n",
        "    rescale=1./255,\n",
        "    shear_range=0.2,\n",
        "    zoom_range=0.2,\n",
        "    horizontal_flip=True)\n",
        "\n",
        "test_datagen = ImageDataGenerator(rescale=1./255)\n",
        "\n",
        "train_generator = train_datagen.flow_from_directory(\n",
        " train_data_dir,\n",
        " target_size=(200, 200),\n",
        " batch_size=32,\n",
        " class_mode='categorical')\n",
        "\n",
        "validation_generator = test_datagen.flow_from_directory(\n",
        " validation_data_dir,\n",
        " target_size=(200, 200),\n",
        " batch_size=32,\n",
        " class_mode='categorical')\n"
      ],
      "execution_count": 6,
      "outputs": [
        {
          "output_type": "stream",
          "text": [
            "Found 13125 images belonging to 8 classes.\n",
            "Found 558 images belonging to 8 classes.\n"
          ],
          "name": "stdout"
        }
      ]
    },
    {
      "cell_type": "code",
      "metadata": {
        "id": "1JlDhNWQI6RL",
        "colab_type": "code",
        "colab": {}
      },
      "source": [
        "for l in range(len(model.layers)):\n",
        "    model.layers[l].trainable = False"
      ],
      "execution_count": 0,
      "outputs": []
    },
    {
      "cell_type": "code",
      "metadata": {
        "id": "MAuuWawUI8qI",
        "colab_type": "code",
        "outputId": "f84e59a0-930b-4705-924c-677dced77413",
        "colab": {
          "base_uri": "https://localhost:8080/",
          "height": 421
        }
      },
      "source": [
        "keras_model = Sequential()\n",
        "keras_model.add(model)\n",
        "keras_model.add(Flatten())\n",
        "keras_model.add(Dense(64, activation='relu'))\n",
        "keras_model.add(Dropout(0.3))\n",
        "keras_model.add(Dense(32, activation='relu'))\n",
        "keras_model.add(Dropout(0.2))\n",
        "keras_model.add(Dense(8, activation='softmax'))\n",
        "\n",
        "opt = optimizers.Adam(learning_rate=0.001, beta_1=0.9, beta_2=0.999, amsgrad=False)\n",
        "\n",
        "keras_model.compile(optimizer=opt, \n",
        "              loss='categorical_crossentropy',\n",
        "              metrics=['accuracy'])\n",
        "keras_model.summary()\n"
      ],
      "execution_count": 10,
      "outputs": [
        {
          "output_type": "stream",
          "text": [
            "Model: \"sequential_2\"\n",
            "_________________________________________________________________\n",
            "Layer (type)                 Output Shape              Param #   \n",
            "=================================================================\n",
            "vgg19 (Model)                (None, 6, 6, 512)         20024384  \n",
            "_________________________________________________________________\n",
            "flatten_2 (Flatten)          (None, 18432)             0         \n",
            "_________________________________________________________________\n",
            "dense_4 (Dense)              (None, 64)                1179712   \n",
            "_________________________________________________________________\n",
            "dropout_3 (Dropout)          (None, 64)                0         \n",
            "_________________________________________________________________\n",
            "dense_5 (Dense)              (None, 32)                2080      \n",
            "_________________________________________________________________\n",
            "dropout_4 (Dropout)          (None, 32)                0         \n",
            "_________________________________________________________________\n",
            "dense_6 (Dense)              (None, 8)                 264       \n",
            "=================================================================\n",
            "Total params: 21,206,440\n",
            "Trainable params: 1,182,056\n",
            "Non-trainable params: 20,024,384\n",
            "_________________________________________________________________\n"
          ],
          "name": "stdout"
        }
      ]
    },
    {
      "cell_type": "code",
      "metadata": {
        "id": "YS2znL6wJJbb",
        "colab_type": "code",
        "colab": {}
      },
      "source": [
        "total_train = 13125\n",
        "total_val = 558\n",
        "epochs = 15\n",
        "batch_size = 500\n",
        "#esc = EarlyStopping(monitor='val_acc', patience=2)\n"
      ],
      "execution_count": 0,
      "outputs": []
    },
    {
      "cell_type": "code",
      "metadata": {
        "id": "aKocxLW0JLcj",
        "colab_type": "code",
        "outputId": "715efa69-ae21-4c4a-fd2d-647c96e4f03e",
        "colab": {
          "base_uri": "https://localhost:8080/",
          "height": 568
        }
      },
      "source": [
        "history = keras_model.fit_generator(\n",
        "    train_generator,\n",
        "    steps_per_epoch=total_train // batch_size,\n",
        "    epochs=epochs,\n",
        "    validation_data=validation_generator,\n",
        "    validation_steps=total_val // batch_size,\n",
        "    #callbacks=[esc]\n",
        ")"
      ],
      "execution_count": 13,
      "outputs": [
        {
          "output_type": "stream",
          "text": [
            "Epoch 1/15\n",
            "26/26 [==============================] - 712s 27s/step - loss: 2.1333 - accuracy: 0.2945 - val_loss: 1.1795 - val_accuracy: 0.7500\n",
            "Epoch 2/15\n",
            "26/26 [==============================] - 664s 26s/step - loss: 1.4039 - accuracy: 0.4399 - val_loss: 1.5231 - val_accuracy: 0.5000\n",
            "Epoch 3/15\n",
            "26/26 [==============================] - 667s 26s/step - loss: 1.2924 - accuracy: 0.5048 - val_loss: 1.1056 - val_accuracy: 0.6250\n",
            "Epoch 4/15\n",
            "26/26 [==============================] - 647s 25s/step - loss: 1.1718 - accuracy: 0.5529 - val_loss: 1.0386 - val_accuracy: 0.5000\n",
            "Epoch 5/15\n",
            "26/26 [==============================] - 648s 25s/step - loss: 1.1121 - accuracy: 0.5637 - val_loss: 1.5451 - val_accuracy: 0.5000\n",
            "Epoch 6/15\n",
            "26/26 [==============================] - 615s 24s/step - loss: 1.0720 - accuracy: 0.5863 - val_loss: 1.4515 - val_accuracy: 0.6562\n",
            "Epoch 7/15\n",
            "26/26 [==============================] - 639s 25s/step - loss: 1.0523 - accuracy: 0.6070 - val_loss: 1.6037 - val_accuracy: 0.5625\n",
            "Epoch 8/15\n",
            "26/26 [==============================] - 640s 25s/step - loss: 0.9978 - accuracy: 0.6382 - val_loss: 0.7817 - val_accuracy: 0.8438\n",
            "Epoch 9/15\n",
            "26/26 [==============================] - 658s 25s/step - loss: 1.1180 - accuracy: 0.5829 - val_loss: 1.2379 - val_accuracy: 0.4688\n",
            "Epoch 10/15\n",
            "26/26 [==============================] - 638s 25s/step - loss: 0.9891 - accuracy: 0.6298 - val_loss: 0.9787 - val_accuracy: 0.5938\n",
            "Epoch 11/15\n",
            "26/26 [==============================] - 645s 25s/step - loss: 0.9760 - accuracy: 0.6226 - val_loss: 1.1095 - val_accuracy: 0.6875\n",
            "Epoch 12/15\n",
            "26/26 [==============================] - 646s 25s/step - loss: 0.9586 - accuracy: 0.6502 - val_loss: 0.9523 - val_accuracy: 0.8125\n",
            "Epoch 13/15\n",
            "26/26 [==============================] - 648s 25s/step - loss: 0.9434 - accuracy: 0.6575 - val_loss: 0.9836 - val_accuracy: 0.7188\n",
            "Epoch 14/15\n",
            "26/26 [==============================] - 635s 24s/step - loss: 0.9172 - accuracy: 0.6587 - val_loss: 0.8401 - val_accuracy: 0.7188\n",
            "Epoch 15/15\n",
            "26/26 [==============================] - 628s 24s/step - loss: 0.9437 - accuracy: 0.6418 - val_loss: 1.2717 - val_accuracy: 0.6562\n"
          ],
          "name": "stdout"
        }
      ]
    },
    {
      "cell_type": "code",
      "metadata": {
        "id": "pPe-3hhfRpIw",
        "colab_type": "code",
        "colab": {}
      },
      "source": [
        "acc = history.history['accuracy']\n",
        "val_acc = history.history['val_accuracy']\n",
        "loss = history.history['loss']\n",
        "val_loss = history.history['val_loss']\n",
        "epochs_range = range(15)"
      ],
      "execution_count": 0,
      "outputs": []
    },
    {
      "cell_type": "code",
      "metadata": {
        "id": "IYjKTjg3Rr75",
        "colab_type": "code",
        "colab": {
          "base_uri": "https://localhost:8080/",
          "height": 499
        },
        "outputId": "475d881b-7178-4f28-94c9-24d10622455f"
      },
      "source": [
        "import matplotlib.pyplot as plt\n",
        "plt.figure(figsize=(8, 8))\n",
        "plt.subplot(1, 2, 1)\n",
        "plt.plot(epochs_range, acc, label='Training Accuracy')\n",
        "plt.plot(epochs_range, val_acc, label='Validation Accuracy')\n",
        "plt.legend(loc='lower right')\n",
        "plt.title('Training and Validation Accuracy')\n",
        "plt.subplot(1, 2, 2)\n",
        "plt.plot(epochs_range, loss, label='Training Loss')\n",
        "plt.plot(epochs_range, val_loss, label='Validation Loss')\n",
        "plt.legend(loc='upper right')\n",
        "plt.title('Training and Validation Loss')\n",
        "plt.show()"
      ],
      "execution_count": 15,
      "outputs": [
        {
          "output_type": "display_data",
          "data": {
            "image/png": "[encoded data removed]",
            "text/plain": [
              "<Figure size 576x576 with 2 Axes>"
            ]
          },
          "metadata": {
            "tags": [],
            "needs_background": "light"
          }
        }
      ]
    },
    {
      "cell_type": "code",
      "metadata": {
        "id": "Gs_yX97yRyRc",
        "colab_type": "code",
        "colab": {}
      },
      "source": [
        "save_dir = \"/gdrive/My Drive/DiplomWork/Third\"\n",
        "json_file = open(save_dir+\"/VGG19ForEmotionDetection.json\", \"w\")\n",
        "model_json = keras_model.to_json()\n",
        "json_file.write(model_json)\n",
        "json_file.close()\n",
        "keras_model.save_weights(save_dir+\"/VGG19ForEmotionDetection_weights.h5\")"
      ],
      "execution_count": 0,
      "outputs": []
    }
  ]
}