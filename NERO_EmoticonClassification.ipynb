{
  "nbformat": 4,
  "nbformat_minor": 0,
  "metadata": {
    "colab": {
      "name": "NERO_EmoticonClassification.ipynb",
      "provenance": [],
      "collapsed_sections": []
    },
    "kernelspec": {
      "name": "python3",
      "display_name": "Python 3"
    }
  },
  "cells": [
    {
      "cell_type": "code",
      "metadata": {
        "id": "hziowOLD4PI1",
        "colab_type": "code",
        "outputId": "de25e292-8c4d-4cba-be46-3488e9b734ff",
        "colab": {
          "base_uri": "https://localhost:8080/",
          "height": 35
        }
      },
      "source": [
        "from google.colab import drive\n",
        "drive.mount('/gdrive', force_remount=True)"
      ],
      "execution_count": 9,
      "outputs": [
        {
          "output_type": "stream",
          "text": [
            "Mounted at /gdrive\n"
          ],
          "name": "stdout"
        }
      ]
    },
    {
      "cell_type": "code",
      "metadata": {
        "id": "sQWXlodzgvF0",
        "colab_type": "code",
        "colab": {}
      },
      "source": [
        "train_data_dir = '/gdrive/My Drive/dataset/train'\n",
        "validation_data_dir = '/gdrive/My Drive/dataset/val'"
      ],
      "execution_count": 0,
      "outputs": []
    },
    {
      "cell_type": "code",
      "metadata": {
        "id": "mKOYzTx-hHby",
        "colab_type": "code",
        "colab": {}
      },
      "source": [
        "from tensorflow.keras.models import Sequential\n",
        "from tensorflow.keras.layers import Dense \n",
        "from tensorflow.keras.layers import Conv2D\n",
        "from tensorflow.keras.layers import Flatten\n",
        "from tensorflow.keras.layers import Dropout\n",
        "from tensorflow.keras.layers import MaxPooling2D, AveragePooling2D\n",
        "from tensorflow.keras.layers import ZeroPadding2D\n",
        "from tensorflow.keras.layers import BatchNormalization, Input, Activation\n",
        "from tensorflow.keras.preprocessing.image import ImageDataGenerator\n",
        "from tensorflow.keras import regularizers, optimizers\n",
        "from tensorflow.keras.callbacks import EarlyStopping"
      ],
      "execution_count": 0,
      "outputs": []
    },
    {
      "cell_type": "code",
      "metadata": {
        "id": "H5msXfhOhfrz",
        "colab_type": "code",
        "outputId": "f87e839a-209e-4612-987b-a748835cbe9c",
        "colab": {
          "base_uri": "https://localhost:8080/",
          "height": 54
        }
      },
      "source": [
        "train_datagen = ImageDataGenerator(\n",
        "    rescale=1./255,\n",
        "    shear_range=0.2,\n",
        "    zoom_range=0.2,\n",
        "    horizontal_flip=True)\n",
        "\n",
        "test_datagen = ImageDataGenerator(rescale=1./255)\n",
        "\n",
        "train_generator = train_datagen.flow_from_directory(\n",
        " train_data_dir,\n",
        " target_size=(200, 200),\n",
        " batch_size=32,\n",
        " class_mode='categorical')\n",
        "\n",
        "validation_generator = test_datagen.flow_from_directory(\n",
        " validation_data_dir,\n",
        " target_size=(200, 200),\n",
        " batch_size=32,\n",
        " class_mode='categorical')\n"
      ],
      "execution_count": 12,
      "outputs": [
        {
          "output_type": "stream",
          "text": [
            "Found 13125 images belonging to 8 classes.\n",
            "Found 558 images belonging to 8 classes.\n"
          ],
          "name": "stdout"
        }
      ]
    },
    {
      "cell_type": "code",
      "metadata": {
        "id": "OrPg1a4birtz",
        "colab_type": "code",
        "outputId": "8a1e84e3-8cb2-455f-a278-2ce3b51cb323",
        "colab": {
          "base_uri": "https://localhost:8080/",
          "height": 1000
        }
      },
      "source": [
        "nb_classes = 8\n",
        "#, kernel_regularizer=regularizers.l1_l2(0.01), bias_regularizer=regularizers.l1(0.01)\n",
        "\n",
        "# Initialising the CNN\n",
        "model = Sequential()\n",
        "\n",
        "# 1\n",
        "# model.add(Conv2D(16,(3,3), padding='same', input_shape=(200,200,3), strides=(1, 1))) \n",
        "# model.add(BatchNormalization())\n",
        "# model.add(Activation('relu'))\n",
        "# model.add(Conv2D(16, kernel_size=(3,3), activation='relu', strides=(1, 1), padding='valid'))\n",
        "# model.add(MaxPooling2D(pool_size=(2, 2)))\n",
        "# model.add(Dropout(0.25))\n",
        "\n",
        "# 2\n",
        "model.add(Conv2D(32,(3,3), padding='same', input_shape=(200,200,3), strides=(1, 1)))\n",
        "model.add(BatchNormalization())\n",
        "model.add(Activation('relu'))\n",
        "model.add(Conv2D(32, kernel_size=(2,2), activation='relu', strides=(1, 1), padding='valid'))\n",
        "model.add(MaxPooling2D(pool_size=(2, 2)))\n",
        "model.add(Dropout(0.25))\n",
        "\n",
        "# 3\n",
        "model.add(Conv2D(64,(3,3), padding='same', strides=(1, 1)))\n",
        "model.add(BatchNormalization())\n",
        "model.add(Activation('relu'))\n",
        "model.add(Conv2D(64, kernel_size=(2,2), activation='relu', strides=(1, 1), padding='valid'))\n",
        "model.add(MaxPooling2D(pool_size=(2, 2)))\n",
        "model.add(Dropout(0.25))\n",
        "\n",
        "# 4\n",
        "model.add(Conv2D(128,(3,3), padding='same', strides=(1, 1)))\n",
        "model.add(BatchNormalization())\n",
        "model.add(Activation('relu'))\n",
        "model.add(Conv2D(128, kernel_size=(2,2), activation='relu', strides=(1, 1), padding='valid'))\n",
        "model.add(Dropout(0.25))\n",
        "\n",
        "# 5\n",
        "model.add(Conv2D(128,(3,3), padding='same', strides=(1, 1)))\n",
        "model.add(BatchNormalization())\n",
        "model.add(Activation('relu'))\n",
        "model.add(Conv2D(128, kernel_size=(2,2), activation='relu', strides=(1, 1), padding='valid'))\n",
        "model.add(Dropout(0.25))\n",
        "\n",
        "# Flattening\n",
        "model.add(Flatten())\n",
        "\n",
        "# Fully connected layer 1st layer\n",
        "model.add(Dense(128))\n",
        "model.add(BatchNormalization())\n",
        "model.add(Activation('relu'))\n",
        "model.add(Dropout(0.25))\n",
        "\n",
        "# Fully connected layer 2nd layer\n",
        "model.add(Dense(64))\n",
        "model.add(BatchNormalization())\n",
        "model.add(Activation('relu'))\n",
        "model.add(Dropout(0.25))\n",
        "\n",
        "model.add(Dense(nb_classes, activation='sigmoid'))\n",
        "\n",
        "# opt = optimizers.Adam(learning_rate=0.001, beta_1=0.9, beta_2=0.999, amsgrad=False)\n",
        "# model.compile(optimizer=opt, loss='categorical_crossentropy', metrics=['accuracy'])\n",
        "\n",
        "opt = optimizers.SGD(lr=0.01, decay=1e-6, momentum=0.9, nesterov=True)\n",
        "model.compile(optimizer=opt, loss='binary_crossentropy', metrics=['accuracy'])\n",
        "\n",
        "model.summary()\n"
      ],
      "execution_count": 43,
      "outputs": [
        {
          "output_type": "stream",
          "text": [
            "Model: \"sequential_11\"\n",
            "_________________________________________________________________\n",
            "Layer (type)                 Output Shape              Param #   \n",
            "=================================================================\n",
            "conv2d_92 (Conv2D)           (None, 200, 200, 32)      896       \n",
            "_________________________________________________________________\n",
            "batch_normalization_64 (Batc (None, 200, 200, 32)      128       \n",
            "_________________________________________________________________\n",
            "activation_68 (Activation)   (None, 200, 200, 32)      0         \n",
            "_________________________________________________________________\n",
            "conv2d_93 (Conv2D)           (None, 199, 199, 32)      4128      \n",
            "_________________________________________________________________\n",
            "max_pooling2d_16 (MaxPooling (None, 99, 99, 32)        0         \n",
            "_________________________________________________________________\n",
            "dropout_59 (Dropout)         (None, 99, 99, 32)        0         \n",
            "_________________________________________________________________\n",
            "conv2d_94 (Conv2D)           (None, 99, 99, 64)        18496     \n",
            "_________________________________________________________________\n",
            "batch_normalization_65 (Batc (None, 99, 99, 64)        256       \n",
            "_________________________________________________________________\n",
            "activation_69 (Activation)   (None, 99, 99, 64)        0         \n",
            "_________________________________________________________________\n",
            "conv2d_95 (Conv2D)           (None, 98, 98, 64)        16448     \n",
            "_________________________________________________________________\n",
            "max_pooling2d_17 (MaxPooling (None, 49, 49, 64)        0         \n",
            "_________________________________________________________________\n",
            "dropout_60 (Dropout)         (None, 49, 49, 64)        0         \n",
            "_________________________________________________________________\n",
            "conv2d_96 (Conv2D)           (None, 49, 49, 128)       73856     \n",
            "_________________________________________________________________\n",
            "batch_normalization_66 (Batc (None, 49, 49, 128)       512       \n",
            "_________________________________________________________________\n",
            "activation_70 (Activation)   (None, 49, 49, 128)       0         \n",
            "_________________________________________________________________\n",
            "conv2d_97 (Conv2D)           (None, 48, 48, 128)       65664     \n",
            "_________________________________________________________________\n",
            "dropout_61 (Dropout)         (None, 48, 48, 128)       0         \n",
            "_________________________________________________________________\n",
            "conv2d_98 (Conv2D)           (None, 48, 48, 128)       147584    \n",
            "_________________________________________________________________\n",
            "batch_normalization_67 (Batc (None, 48, 48, 128)       512       \n",
            "_________________________________________________________________\n",
            "activation_71 (Activation)   (None, 48, 48, 128)       0         \n",
            "_________________________________________________________________\n",
            "conv2d_99 (Conv2D)           (None, 47, 47, 128)       65664     \n",
            "_________________________________________________________________\n",
            "dropout_62 (Dropout)         (None, 47, 47, 128)       0         \n",
            "_________________________________________________________________\n",
            "flatten_11 (Flatten)         (None, 282752)            0         \n",
            "_________________________________________________________________\n",
            "dense_33 (Dense)             (None, 128)               36192384  \n",
            "_________________________________________________________________\n",
            "batch_normalization_68 (Batc (None, 128)               512       \n",
            "_________________________________________________________________\n",
            "activation_72 (Activation)   (None, 128)               0         \n",
            "_________________________________________________________________\n",
            "dropout_63 (Dropout)         (None, 128)               0         \n",
            "_________________________________________________________________\n",
            "dense_34 (Dense)             (None, 64)                8256      \n",
            "_________________________________________________________________\n",
            "batch_normalization_69 (Batc (None, 64)                256       \n",
            "_________________________________________________________________\n",
            "activation_73 (Activation)   (None, 64)                0         \n",
            "_________________________________________________________________\n",
            "dropout_64 (Dropout)         (None, 64)                0         \n",
            "_________________________________________________________________\n",
            "dense_35 (Dense)             (None, 8)                 520       \n",
            "=================================================================\n",
            "Total params: 36,596,072\n",
            "Trainable params: 36,594,984\n",
            "Non-trainable params: 1,088\n",
            "_________________________________________________________________\n"
          ],
          "name": "stdout"
        }
      ]
    },
    {
      "cell_type": "code",
      "metadata": {
        "id": "TSi1ygmtmkss",
        "colab_type": "code",
        "colab": {}
      },
      "source": [
        "total_train = 13125\n",
        "total_val = 558\n",
        "epochs = 12\n",
        "batch_size = 500\n",
        "esc = EarlyStopping(monitor='val_acc', patience=2)\n",
        "\n",
        "from tensorflow.keras.callbacks import ModelCheckpoint\n",
        "checkpoint = ModelCheckpoint(\"/gdrive/My Drive/best_model.h5\", monitor='loss', verbose=1,\n",
        "    save_best_only=True, mode='auto', save_freq=1)"
      ],
      "execution_count": 0,
      "outputs": []
    },
    {
      "cell_type": "code",
      "metadata": {
        "id": "D7nShT0Kmrxj",
        "colab_type": "code",
        "outputId": "3d24c577-7865-4bf3-dfa4-ab74883cefe5",
        "colab": {
          "base_uri": "https://localhost:8080/",
          "height": 458
        }
      },
      "source": [
        "history = model.fit_generator(\n",
        "    train_generator,\n",
        "    steps_per_epoch=total_train // batch_size,\n",
        "    epochs=epochs,\n",
        "    validation_data=validation_generator,\n",
        "    validation_steps=total_val // batch_size,\n",
        "    #callbacks=[checkpoint, esc]\n",
        ")\n"
      ],
      "execution_count": 45,
      "outputs": [
        {
          "output_type": "stream",
          "text": [
            "Epoch 1/12\n",
            "26/26 [==============================] - 205s 8s/step - loss: 0.6543 - accuracy: 0.2163 - val_loss: 0.4815 - val_accuracy: 0.4375\n",
            "Epoch 2/12\n",
            "26/26 [==============================] - 205s 8s/step - loss: 0.3967 - accuracy: 0.4038 - val_loss: 0.3123 - val_accuracy: 0.3125\n",
            "Epoch 3/12\n",
            "26/26 [==============================] - 206s 8s/step - loss: 0.3076 - accuracy: 0.5108 - val_loss: 0.2519 - val_accuracy: 0.4062\n",
            "Epoch 4/12\n",
            "26/26 [==============================] - 206s 8s/step - loss: 0.2670 - accuracy: 0.5337 - val_loss: 0.3126 - val_accuracy: 0.4062\n",
            "Epoch 5/12\n",
            "26/26 [==============================] - 206s 8s/step - loss: 0.2406 - accuracy: 0.5986 - val_loss: 0.2576 - val_accuracy: 0.5625\n",
            "Epoch 6/12\n",
            "26/26 [==============================] - 204s 8s/step - loss: 0.2264 - accuracy: 0.6238 - val_loss: 0.2665 - val_accuracy: 0.5000\n",
            "Epoch 7/12\n",
            "26/26 [==============================] - 205s 8s/step - loss: 0.2080 - accuracy: 0.6791 - val_loss: 0.3313 - val_accuracy: 0.4062\n",
            "Epoch 8/12\n",
            "26/26 [==============================] - 206s 8s/step - loss: 0.1896 - accuracy: 0.7163 - val_loss: 0.2878 - val_accuracy: 0.4688\n",
            "Epoch 9/12\n",
            "26/26 [==============================] - 206s 8s/step - loss: 0.2022 - accuracy: 0.6839 - val_loss: 0.2638 - val_accuracy: 0.5625\n",
            "Epoch 10/12\n",
            "26/26 [==============================] - 206s 8s/step - loss: 0.2089 - accuracy: 0.6599 - val_loss: 0.3262 - val_accuracy: 0.4688\n",
            "Epoch 11/12\n",
            "26/26 [==============================] - 209s 8s/step - loss: 0.1928 - accuracy: 0.7127 - val_loss: 0.3948 - val_accuracy: 0.4062\n",
            "Epoch 12/12\n",
            "26/26 [==============================] - 199s 8s/step - loss: 0.1891 - accuracy: 0.7205 - val_loss: 0.2469 - val_accuracy: 0.7188\n"
          ],
          "name": "stdout"
        }
      ]
    },
    {
      "cell_type": "code",
      "metadata": {
        "id": "lVOirdl-iC9T",
        "colab_type": "code",
        "colab": {}
      },
      "source": [
        "acc = history.history['accuracy']\n",
        "val_acc = history.history['val_accuracy']\n",
        "loss = history.history['loss']\n",
        "val_loss = history.history['val_loss']\n",
        "epochs_range = range(12)"
      ],
      "execution_count": 0,
      "outputs": []
    },
    {
      "cell_type": "code",
      "metadata": {
        "id": "vb_dc04wqKXN",
        "colab_type": "code",
        "outputId": "6665439d-30f5-452f-aab4-a9f5e206a536",
        "colab": {
          "base_uri": "https://localhost:8080/",
          "height": 499
        }
      },
      "source": [
        "import matplotlib.pyplot as plt\n",
        "plt.figure(figsize=(8, 8))\n",
        "plt.subplot(1, 2, 1)\n",
        "plt.plot(epochs_range, acc, label='Training Accuracy')\n",
        "plt.plot(epochs_range, val_acc, label='Validation Accuracy')\n",
        "plt.legend(loc='lower right')\n",
        "plt.title('Training and Validation Accuracy')\n",
        "plt.subplot(1, 2, 2)\n",
        "plt.plot(epochs_range, loss, label='Training Loss')\n",
        "plt.plot(epochs_range, val_loss, label='Validation Loss')\n",
        "plt.legend(loc='upper right')\n",
        "plt.title('Training and Validation Loss')\n",
        "plt.show()"
      ],
      "execution_count": 47,
      "outputs": [
        {
          "output_type": "display_data",
          "data": {
            "image/png": "[encoded data removed]",
            "text/plain": [
              "<Figure size 576x576 with 2 Axes>"
            ]
          },
          "metadata": {
            "tags": [],
            "needs_background": "light"
          }
        }
      ]
    },
    {
      "cell_type": "code",
      "metadata": {
        "id": "4btSlUsfWbUd",
        "colab_type": "code",
        "colab": {}
      },
      "source": [
        "save_dir = \"/gdrive/My Drive\"\n",
        "json_file = open(save_dir+\"/NERO_EmoticonClassification.json\", \"w\")\n",
        "model_json = model.to_json()\n",
        "json_file.write(model_json)\n",
        "json_file.close()\n",
        "model.save_weights(save_dir+\"/NERO_EmoticonClassification_weights.h5\")"
      ],
      "execution_count": 0,
      "outputs": []
    }
  ]
}